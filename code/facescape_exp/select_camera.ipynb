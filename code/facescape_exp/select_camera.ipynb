{
 "cells": [
  {
   "cell_type": "code",
   "execution_count": 25,
   "metadata": {},
   "outputs": [],
   "source": [
    "import shutil\n",
    "import os"
   ]
  },
  {
   "cell_type": "code",
   "execution_count": 26,
   "metadata": {},
   "outputs": [],
   "source": [
    "def select_2_imgs(person):\n",
    "    names = []\n",
    "    if person == '1':\n",
    "        names = ['1', '10']\n",
    "    elif person == '2':\n",
    "        names = ['17', '21']\n",
    "    elif person == '3':\n",
    "        names = ['17', '21']\n",
    "    elif person == '4':\n",
    "        names = ['1', '10']\n",
    "    elif person == '5':\n",
    "        names = ['16', '20']\n",
    "    elif person == '6':\n",
    "        names = ['17', '20']\n",
    "    elif person == '7':\n",
    "        names = ['17', '21']\n",
    "    elif person == '9':\n",
    "        names = ['17', '21']\n",
    "    elif person == '13':\n",
    "        names = ['51', '46']\n",
    "    if person == '16':\n",
    "        names = ['1', '10']\n",
    "    if person == '17':\n",
    "        names = ['17', '21']\n",
    "    if person == '18':\n",
    "        names = ['1', '10']\n",
    "    if person == '19':\n",
    "        names = ['1', '10']\n",
    "    elif person == '122':\n",
    "        names = ['40', '44']\n",
    "    elif person == '212':\n",
    "        names = ['47', '51']\n",
    "    return names"
   ]
  },
  {
   "cell_type": "code",
   "execution_count": 34,
   "metadata": {},
   "outputs": [],
   "source": [
    "def select_3_imgs(person):\n",
    "\tnames = []\n",
    "\n",
    "\tif person == '1':\n",
    "\t\tnames = ['1', '10', '8']\n",
    "\telif person == '2':\n",
    "\t\tnames = ['17', '21', '10']\n",
    "\telif person == '3':\n",
    "\t\tnames = ['17', '21', '10']\n",
    "\telif person == '4':\n",
    "\t\tnames = ['1', '10', '8']\n",
    "\telif person == '5':\n",
    "\t\tnames = ['16', '20', '9']\n",
    "\telif person == '6':\n",
    "\t\tnames = ['17', '20', '10']\n",
    "\telif person == '7':\n",
    "\t\tnames = ['17', '21', '7']\n",
    "\telif person == '9':\n",
    "\t\tnames = ['17', '21', '10']\n",
    "\telif person == '13':\n",
    "\t\tnames = ['51', '46', '47']\n",
    "\telif person == '16':\n",
    "\t\tnames = ['1', '10', '8']\n",
    "\telif person == '17':\n",
    "\t\tnames = ['17', '21', '10']\n",
    "\telif person == '18':\n",
    "\t\tnames = ['1', '10', '8']\n",
    "\telif person == '19':\n",
    "\t\tnames = ['1', '10', '8']\n",
    "\telif person == '122':\n",
    "\t\tnames = ['40', '44', '45']\n",
    "\telif person == '212':\n",
    "\t\tnames = ['47', '51', '52']\n",
    "\t\n",
    "\treturn names"
   ]
  },
  {
   "cell_type": "code",
   "execution_count": 35,
   "metadata": {},
   "outputs": [],
   "source": [
    "def copy_cameras(data_path, output_path):\n",
    "    persons = os.listdir(data_path)\n",
    "\n",
    "    for person in persons:\n",
    "        names_ = select_3_imgs(person)\n",
    "        person_dir = os.path.join(output_path, person)\n",
    "        if (len(names_) == 0):\n",
    "            continue\n",
    "        \n",
    "        if not os.path.exists(person_dir):\n",
    "            os.makedirs(person_dir)\n",
    "        \n",
    "        for name in names_:\n",
    "            curr_image = os.path.join(data_path, person, name+'.jpg')\n",
    "            shutil.copy(curr_image, person_dir)\n",
    "    return"
   ]
  },
  {
   "cell_type": "code",
   "execution_count": 36,
   "metadata": {},
   "outputs": [],
   "source": [
    "data_path = '../../../2D_Landmarks/Dataset/facescape_sample/test_set/512/'\n",
    "output_path = './selected_images/3_cameras/'\n",
    "\n",
    "copy_cameras(data_path, output_path)"
   ]
  },
  {
   "cell_type": "code",
   "execution_count": 10,
   "metadata": {},
   "outputs": [
    {
     "data": {
      "text/plain": [
       "'./selected_images/2_cameras/40.jpg'"
      ]
     },
     "execution_count": 10,
     "metadata": {},
     "output_type": "execute_result"
    }
   ],
   "source": [
    "shutil.copy('./input/122_2/40.jpg', './selected_images/2_cameras/')"
   ]
  },
  {
   "cell_type": "code",
   "execution_count": null,
   "metadata": {},
   "outputs": [],
   "source": []
  },
  {
   "cell_type": "code",
   "execution_count": null,
   "metadata": {},
   "outputs": [],
   "source": []
  }
 ],
 "metadata": {
  "kernelspec": {
   "display_name": "dad_3d",
   "language": "python",
   "name": "python3"
  },
  "language_info": {
   "codemirror_mode": {
    "name": "ipython",
    "version": 3
   },
   "file_extension": ".py",
   "mimetype": "text/x-python",
   "name": "python",
   "nbconvert_exporter": "python",
   "pygments_lexer": "ipython3",
   "version": "3.8.13"
  },
  "orig_nbformat": 4,
  "vscode": {
   "interpreter": {
    "hash": "5796df81dbfa9d73d5f5430114a8c6003918df0f1ffc6a75c58a987af26b37fd"
   }
  }
 },
 "nbformat": 4,
 "nbformat_minor": 2
}
