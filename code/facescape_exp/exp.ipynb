{
 "cells": [
  {
   "cell_type": "code",
   "execution_count": 2,
   "metadata": {},
   "outputs": [
    {
     "name": "stdout",
     "output_type": "stream",
     "text": [
      "\u001b[31m2d_from_3D.numbers\u001b[m\u001b[m      flame_fit.py            read.py\n",
      "\u001b[34m__pycache__\u001b[m\u001b[m             \u001b[34minput\u001b[m\u001b[m                   readme.md\n",
      "align_flame_to_input.py \u001b[34moutput\u001b[m\u001b[m                  sanity.jpg\n",
      "crop_align.py           \u001b[34mpi\u001b[m\u001b[m                      \u001b[34mscripts\u001b[m\u001b[m\n",
      "dense2d.py              pw.npy                  select_camera.ipynb\n",
      "exp.ipynb               pw_flame.npy            select_img_dense2d.py\n"
     ]
    }
   ],
   "source": [
    "!ls"
   ]
  },
  {
   "cell_type": "code",
   "execution_count": 4,
   "metadata": {},
   "outputs": [
    {
     "name": "stdout",
     "output_type": "stream",
     "text": [
      "--------\n",
      "[[2.02089843e+04 0.00000000e+00 1.29006482e+03 0.00000000e+00]\n",
      " [0.00000000e+00 2.02089843e+04 4.37122877e+02 0.00000000e+00]\n",
      " [0.00000000e+00 0.00000000e+00 1.00000000e+00 0.00000000e+00]\n",
      " [0.00000000e+00 0.00000000e+00 0.00000000e+00 1.00000000e+00]]\n",
      "---------\n",
      "**************** 1.jpg\n",
      "[[ 1.  0.  0.  0.]\n",
      " [ 0. -1.  0.  0.]\n",
      " [ 0.  0. -1.  0.]\n",
      " [ 0.  0.  0.  1.]]\n",
      "-7199171.03644927 2987.84756375747 -21194.728698070547\n",
      "-102.73422633995507 10502372.623744493 21573.13072969038\n",
      "**************** 8.jpg\n",
      "[[ 0.77793769  0.01780174  0.62808921 -1.84972201]\n",
      " [-0.0186564  -0.99850347  0.05140768 -0.19460667]\n",
      " [ 0.6280644  -0.05170986 -0.77644137 -0.74532109]\n",
      " [ 0.          0.          0.          1.        ]]\n",
      "-332282342.8194761 96466266.82432579 -141622.90670234722\n",
      "-75890909.76708086 706292122.9359493 144750.4960851526\n",
      "**************** 10.jpg\n",
      "[[ 0.94836693  0.06953257 -0.30945983  0.9239882 ]\n",
      " [ 0.02308017 -0.98821667 -0.15131132  0.47745942]\n",
      " [-0.31633443  0.13635627 -0.93879683 -0.13737638]\n",
      " [ 0.          0.          0.          1.        ]]\n",
      "-59920.978197242766 7992.364404523394 -5372.220150772615\n",
      "-3985.938269273372 124878.86915641277 8883.997432172468\n"
     ]
    }
   ],
   "source": [
    "! python read.py"
   ]
  },
  {
   "attachments": {},
   "cell_type": "markdown",
   "metadata": {},
   "source": [
    "#### Plot the landmarks on image and check qualilty"
   ]
  },
  {
   "cell_type": "code",
   "execution_count": 76,
   "metadata": {},
   "outputs": [
    {
     "name": "stdout",
     "output_type": "stream",
     "text": [
      "14999\n",
      "[[ 2257.98209542  1849.62576005]\n",
      " [ 2298.79188917  1858.45949386]\n",
      " [ 2308.05958493  1843.24400361]\n",
      " ...\n",
      " [-6948.09450548 11421.01439633]\n",
      " [-6964.53579031 11421.08407502]\n",
      " [-7488.52217531 11644.40101726]]\n"
     ]
    }
   ],
   "source": [
    "import numpy as np\n",
    "lmks = np.load('./output/flame_2d/122_3/pi/40.npy')\n",
    "print(len(lmks))\n",
    "print(lmks)"
   ]
  },
  {
   "cell_type": "code",
   "execution_count": 79,
   "metadata": {},
   "outputs": [
    {
     "data": {
      "text/plain": [
       "True"
      ]
     },
     "execution_count": 79,
     "metadata": {},
     "output_type": "execute_result"
    }
   ],
   "source": [
    "import cv2\n",
    "image = cv2.imread('./input/122_3/40.jpg')\n",
    "for point in lmks:\n",
    "    point = [int(point[0]), int(point[1])]\n",
    "    image = cv2.circle(image, point, radius=3, color=(0, 255, 0), thickness=-1)\n",
    "\n",
    "cv2.imwrite('sanity.jpg', image)"
   ]
  },
  {
   "cell_type": "code",
   "execution_count": 8,
   "metadata": {},
   "outputs": [
    {
     "data": {
      "text/plain": [
       "'indices_file = \"../../../2D_Landmarks/DAD-3DHeads/model_training/model/static/face_keypoints/ids1.npy\"\\nindices = np.load(indices_file)\\npoints = []\\npoints.extend(np.take(lmks, indices, axis=0))\\n\\nimage = cv2.imread(\\'./input/122_3/44.jpg\\')\\nfor point in points:\\n    point = [int(point[0]), int(point[1])]\\n    image = cv2.circle(image, point, radius=3, color=(0, 255, 0), thickness=-1)\\n\\ncv2.imwrite(\\'./data/flame_2d/44.jpg\\', image)'"
      ]
     },
     "execution_count": 8,
     "metadata": {},
     "output_type": "execute_result"
    }
   ],
   "source": [
    "'''indices_file = \"../../../2D_Landmarks/DAD-3DHeads/model_training/model/static/face_keypoints/ids1.npy\"\n",
    "indices = np.load(indices_file)\n",
    "points = []\n",
    "points.extend(np.take(lmks, indices, axis=0))\n",
    "\n",
    "image = cv2.imread('./input/122_3/44.jpg')\n",
    "for point in points:\n",
    "    point = [int(point[0]), int(point[1])]\n",
    "    image = cv2.circle(image, point, radius=3, color=(0, 255, 0), thickness=-1)\n",
    "\n",
    "cv2.imwrite('./data/flame_2d/44.jpg', image)'''"
   ]
  },
  {
   "attachments": {},
   "cell_type": "markdown",
   "metadata": {},
   "source": [
    "#### select 1797 from flame 2d and save"
   ]
  },
  {
   "cell_type": "code",
   "execution_count": 20,
   "metadata": {},
   "outputs": [
    {
     "data": {
      "text/plain": [
       "\"print(points)\\nimage = cv2.imread('./input/122_3/40.jpg')\\nfor point in points:\\n    point = [int(point[0]), int(point[1])]\\n    image = cv2.circle(image, point, radius=3, color=(0, 255, 0), thickness=-1)\\n\\ncv2.imwrite('sanity.jpg', image)\""
      ]
     },
     "execution_count": 20,
     "metadata": {},
     "output_type": "execute_result"
    }
   ],
   "source": [
    "# select 1797 from flame 2d and save\n",
    "import numpy as np\n",
    "indices_file = \"../../../2D_Landmarks/DAD-3DHeads/model_training/model/static/face_keypoints/ids1.npy\"\n",
    "indices = np.load(indices_file)\n",
    "points = []\n",
    "lmks = np.load('./output/flame_2d/19_3/pi/8.npy')\n",
    "points.extend(np.take(lmks, indices, axis=0))\n",
    "points = np.array(points)\n",
    "'''print(points)\n",
    "image = cv2.imread('./input/122_3/40.jpg')\n",
    "for point in points:\n",
    "    point = [int(point[0]), int(point[1])]\n",
    "    image = cv2.circle(image, point, radius=3, color=(0, 255, 0), thickness=-1)\n",
    "\n",
    "cv2.imwrite('sanity.jpg', image)'''"
   ]
  },
  {
   "cell_type": "code",
   "execution_count": 21,
   "metadata": {},
   "outputs": [],
   "source": [
    "np.save('./output/flame_2d/19_3/8.npy', points)"
   ]
  },
  {
   "cell_type": "code",
   "execution_count": 22,
   "metadata": {},
   "outputs": [
    {
     "name": "stdout",
     "output_type": "stream",
     "text": [
      "[[2612.95104224  624.14313183]\n",
      " [2625.21312502  644.44690374]\n",
      " [2651.39207294  708.38905802]\n",
      " ...\n",
      " [2677.9478186  1663.84640885]\n",
      " [2712.34744229 1922.66817851]\n",
      " [2692.08325717 1954.69006197]]\n"
     ]
    },
    {
     "data": {
      "text/plain": [
       "True"
      ]
     },
     "execution_count": 22,
     "metadata": {},
     "output_type": "execute_result"
    }
   ],
   "source": [
    "import cv2\n",
    "points = np.load('./output/flame_2d/19_3/8.npy')\n",
    "image = cv2.imread('./input/3_cameras/19/8.jpg')\n",
    "print(points)\n",
    "for point in points:\n",
    "    point = [int(point[0]), int(point[1])]\n",
    "    image = cv2.circle(image, point, radius=3, color=(0, 255, 0), thickness=-1)\n",
    "\n",
    "cv2.imwrite('./output/flame_2d/19_3/8.jpg', image)"
   ]
  },
  {
   "attachments": {},
   "cell_type": "markdown",
   "metadata": {},
   "source": [
    "#### Draw lmks for GT"
   ]
  },
  {
   "cell_type": "code",
   "execution_count": 40,
   "metadata": {},
   "outputs": [
    {
     "data": {
      "text/plain": [
       "True"
      ]
     },
     "execution_count": 40,
     "metadata": {},
     "output_type": "execute_result"
    }
   ],
   "source": [
    "gt_points = np.load('./output/GT/19/8.npy')\n",
    "image = cv2.imread('./input/3_cameras/19/8.jpg')\n",
    "for point in gt_points:\n",
    "    point = [int(point[0]), int(point[1])]\n",
    "    image = cv2.circle(image, point, radius=3, color=(0, 255, 0), thickness=-1)\n",
    "\n",
    "cv2.imwrite('./output/GT/19/8.jpg', image)"
   ]
  },
  {
   "attachments": {},
   "cell_type": "markdown",
   "metadata": {},
   "source": [
    "#### Calculate error for flame_2d and dad-net wrt to GT"
   ]
  },
  {
   "cell_type": "code",
   "execution_count": 25,
   "metadata": {},
   "outputs": [],
   "source": [
    "def calculate_error(x,y, pred_x, pred_y):\n",
    "    #norm_factor = (np.sqrt(np.square(x[36]-x[45]) + np.square(y[36]-y[47])))*len(x)\n",
    "    ret = 0\n",
    "    for i in range(len(x)):\n",
    "        ret += np.sqrt(np.square(pred_x[i]-x[i]) + np.square(pred_y[i]-y[i]))\n",
    "    return ret/len(x)"
   ]
  },
  {
   "cell_type": "code",
   "execution_count": 31,
   "metadata": {},
   "outputs": [],
   "source": [
    "gt_lmks = np.load('./output/GT/19/1.npy')\n",
    "flame_2d_lmks = np.load('./output/flame_2d/19_3/1.npy')\n",
    "dadnet_2d_lmks = np.load('./output/dadNet_2d/19/1.npy')"
   ]
  },
  {
   "cell_type": "code",
   "execution_count": 32,
   "metadata": {},
   "outputs": [],
   "source": [
    "flame_2d_error = calculate_error(gt_lmks[:,0], gt_lmks[:,1],flame_2d_lmks[:,0], flame_2d_lmks[:,1])\n",
    "dadnet_2d_error = calculate_error(gt_lmks[:,0], gt_lmks[:,1],dadnet_2d_lmks[:,0], dadnet_2d_lmks[:,1])"
   ]
  },
  {
   "cell_type": "code",
   "execution_count": 33,
   "metadata": {},
   "outputs": [
    {
     "name": "stdout",
     "output_type": "stream",
     "text": [
      "flame 2D error for 40.jpg :  61.67133121354123\n",
      "dadnet 2D error for 40.jpg :  74.04490549728874\n"
     ]
    }
   ],
   "source": [
    "print('flame 2D error for 40.jpg : ', flame_2d_error)\n",
    "print('dadnet 2D error for 40.jpg : ', dadnet_2d_error)"
   ]
  },
  {
   "cell_type": "code",
   "execution_count": 34,
   "metadata": {},
   "outputs": [],
   "source": [
    "gt_lmks = np.load('./output/GT/19/10.npy')\n",
    "flame_2d_lmks = np.load('./output/flame_2d/19_3/10.npy')\n",
    "dadnet_2d_lmks = np.load('./output/dadNet_2d/19/10.npy')"
   ]
  },
  {
   "cell_type": "code",
   "execution_count": 35,
   "metadata": {},
   "outputs": [],
   "source": [
    "flame_2d_error = calculate_error(gt_lmks[:,0], gt_lmks[:,1],flame_2d_lmks[:,0], flame_2d_lmks[:,1])\n",
    "dadnet_2d_error = calculate_error(gt_lmks[:,0], gt_lmks[:,1],dadnet_2d_lmks[:,0], dadnet_2d_lmks[:,1])"
   ]
  },
  {
   "cell_type": "code",
   "execution_count": 36,
   "metadata": {},
   "outputs": [
    {
     "name": "stdout",
     "output_type": "stream",
     "text": [
      "flame 2D error for 44.jpg :  63.05048460262335\n",
      "dadnet 2D error for 44.jpg :  66.58625450021873\n"
     ]
    }
   ],
   "source": [
    "print('flame 2D error for 44.jpg : ', flame_2d_error)\n",
    "print('dadnet 2D error for 44.jpg : ', dadnet_2d_error)"
   ]
  },
  {
   "cell_type": "code",
   "execution_count": 37,
   "metadata": {},
   "outputs": [],
   "source": [
    "gt_lmks = np.load('./output/GT/19/8.npy')\n",
    "flame_2d_lmks = np.load('./output/flame_2d/19_3/8.npy')\n",
    "dadnet_2d_lmks = np.load('./output/dadNet_2d/19/8.npy')"
   ]
  },
  {
   "cell_type": "code",
   "execution_count": 38,
   "metadata": {},
   "outputs": [],
   "source": [
    "flame_2d_error = calculate_error(gt_lmks[:,0], gt_lmks[:,1],flame_2d_lmks[:,0], flame_2d_lmks[:,1])\n",
    "dadnet_2d_error = calculate_error(gt_lmks[:,0], gt_lmks[:,1],dadnet_2d_lmks[:,0], dadnet_2d_lmks[:,1])"
   ]
  },
  {
   "cell_type": "code",
   "execution_count": 39,
   "metadata": {},
   "outputs": [
    {
     "name": "stdout",
     "output_type": "stream",
     "text": [
      "flame 2D error for 44.jpg :  57.909768157682116\n",
      "dadnet 2D error for 44.jpg :  61.36817670267865\n"
     ]
    }
   ],
   "source": [
    "print('flame 2D error for 44.jpg : ', flame_2d_error)\n",
    "print('dadnet 2D error for 44.jpg : ', dadnet_2d_error)"
   ]
  },
  {
   "cell_type": "code",
   "execution_count": null,
   "metadata": {},
   "outputs": [],
   "source": []
  }
 ],
 "metadata": {
  "kernelspec": {
   "display_name": "Python 3.8.13 ('dad_3d')",
   "language": "python",
   "name": "python3"
  },
  "language_info": {
   "codemirror_mode": {
    "name": "ipython",
    "version": 3
   },
   "file_extension": ".py",
   "mimetype": "text/x-python",
   "name": "python",
   "nbconvert_exporter": "python",
   "pygments_lexer": "ipython3",
   "version": "3.8.13"
  },
  "orig_nbformat": 4,
  "vscode": {
   "interpreter": {
    "hash": "5796df81dbfa9d73d5f5430114a8c6003918df0f1ffc6a75c58a987af26b37fd"
   }
  }
 },
 "nbformat": 4,
 "nbformat_minor": 2
}
